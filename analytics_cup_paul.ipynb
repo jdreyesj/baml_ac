{
 "cells": [
  {
   "cell_type": "code",
   "execution_count": 1,
   "metadata": {},
   "outputs": [],
   "source": [
    "import pandas as pd\n",
    "import numpy as np"
   ]
  },
  {
   "cell_type": "markdown",
   "metadata": {},
   "source": [
    "## Load Data into Dataframe"
   ]
  },
  {
   "cell_type": "code",
   "execution_count": 7,
   "metadata": {},
   "outputs": [
    {
     "name": "stderr",
     "output_type": "stream",
     "text": [
      "/var/folders/98/vj0zh3_s1tnd9ywtmq7jtpwr0000gn/T/ipykernel_95628/1134801587.py:4: DtypeWarning: Columns (3) have mixed types. Specify dtype option on import or set low_memory=False.\n",
      "  reviews_df = pd.read_csv(\"data/reviews.csv\")\n"
     ]
    }
   ],
   "source": [
    "diet_df = pd.read_csv(\"data/diet.csv\")\n",
    "recipes_df = pd.read_csv(\"data/recipes.csv\")\n",
    "request_df = pd.read_csv(\"data/requests.csv\")\n",
    "reviews_df = pd.read_csv(\"data/reviews.csv\")\n",
    "submission_df = pd.read_csv(\"data/submission_random.csv\")"
   ]
  },
  {
   "cell_type": "code",
   "execution_count": 10,
   "metadata": {},
   "outputs": [
    {
     "name": "stdout",
     "output_type": "stream",
     "text": [
      "    AuthorId        Diet  Age\n",
      "0  10000120E  Vegetarian   46\n",
      "1   1000014D       Vegan   18\n",
      "2   1000015A  Vegetarian   58\n",
      "3   1000016E  Vegetarian   32\n",
      "4   1000027E       Vegan   61\n"
     ]
    }
   ],
   "source": [
    "print(diet_df.head())"
   ]
  },
  {
   "cell_type": "code",
   "execution_count": 11,
   "metadata": {},
   "outputs": [
    {
     "name": "stdout",
     "output_type": "stream",
     "text": [
      "   RecipeId                                      Name  CookTime  PrepTime  \\\n",
      "0     73440              Bow Ties With Broccoli Pesto         0      1800   \n",
      "1    365718                       Cashew-chutney Rice      3600       600   \n",
      "2    141757  Copycat Taco Bell Nacho Fries BellGrande      3600      2700   \n",
      "3    280351  Slow Cooker Jalapeno Cheddar Cheese Soup     18000      1800   \n",
      "4    180505           Cool & Crisp Citrus Chiffon Pie      3600      1800   \n",
      "\n",
      "  RecipeCategory                         RecipeIngredientQuantities  \\\n",
      "0          Other  c(\"\\\"6\\\"\", \"\\\"2\\\"\", \"\\\"1 1/2\\\"\", \"\\\"1/4\\\"\", \"\\...   \n",
      "1          Other  c(\"\\\"1\\\"\", \"\\\"3/4\\\"\", \"\\\"6\\\"\", \"\\\"5\\\"\", \"\\\"2\\\"...   \n",
      "2          Other  c(\"\\\"3\\\"\", \"\\\"1/2\\\"\", \"\\\"1\\\"\", \"\\\"1\\\"\", \"\\\"3\\\"...   \n",
      "3          Other  c(\"\\\"2\\\"\", \"\\\"1\\\"\", \"\\\"2\\\"\", \"\\\"2\\\"\", \"\\\"1\\\"\",...   \n",
      "4          Other  c(\"\\\"1\\\"\", \"\\\"1/4\\\"\", \"\\\"1/2\\\"\", \"\\\"1/2\\\"\", \"\\...   \n",
      "\n",
      "                               RecipeIngredientParts  Calories  FatContent  \\\n",
      "0  c(\"\\\"hazelnuts\\\"\", \"\\\"broccoli florets\\\"\", \"\\\"...     241.3        10.1   \n",
      "1  c(\"\\\"celery\\\"\", \"\\\"onion\\\"\", \"\\\"butter\\\"\", \"\\\"...     370.8        17.5   \n",
      "2  c(\"\\\"Copycat Taco Bell Seasoned Beef\\\"\", \"\\\"ye...     377.6        20.9   \n",
      "3  c(\"\\\"unsalted butter\\\"\", \"\\\"yellow onion\\\"\", \"...     282.8        16.5   \n",
      "4  c(\"\\\"unflavored gelatin\\\"\", \"\\\"water\\\"\", \"\\\"su...     257.5         8.6   \n",
      "\n",
      "   SaturatedFatContent  CholesterolContent  SodiumContent  \\\n",
      "0                  1.2                 0.0           13.1   \n",
      "1                  7.2                22.9          553.3   \n",
      "2                 10.5                45.7         1501.8   \n",
      "3                 10.3                50.5          630.2   \n",
      "4                  2.4               110.7          160.9   \n",
      "\n",
      "   CarbohydrateContent  FiberContent  SugarContent  ProteinContent  \\\n",
      "0                 31.8           2.3           1.4             6.7   \n",
      "1                 44.3           1.6           2.2             9.4   \n",
      "2                 36.6           3.8           6.1            12.9   \n",
      "3                 22.8           2.3           2.7            11.7   \n",
      "4                 39.8           0.4          30.2             6.3   \n",
      "\n",
      "   RecipeServings RecipeYield  \n",
      "0             9.0         NaN  \n",
      "1             8.0         NaN  \n",
      "2             8.0         NaN  \n",
      "3             6.0         NaN  \n",
      "4             6.0         NaN  \n"
     ]
    }
   ],
   "source": [
    "print(recipes_df.head())"
   ]
  },
  {
   "cell_type": "code",
   "execution_count": 12,
   "metadata": {},
   "outputs": [
    {
     "name": "stdout",
     "output_type": "stream",
     "text": [
      "      AuthorId  RecipeId          Time  HighCalories  HighProtein  LowFat  \\\n",
      "0  2001012259B     73440   1799.950949           0.0  Indifferent       0   \n",
      "1      437641B    365718   4201.820980           0.0          Yes       0   \n",
      "2  1803340263D    141757   6299.861496           0.0  Indifferent       1   \n",
      "3      854048B    280351  19801.365796           0.0          Yes       1   \n",
      "4     2277685E    180505   5400.093457           0.0  Indifferent       0   \n",
      "\n",
      "      LowSugar  HighFiber  \n",
      "0            0          0  \n",
      "1  Indifferent          1  \n",
      "2  Indifferent          0  \n",
      "3            0          1  \n",
      "4            0          0  \n"
     ]
    }
   ],
   "source": [
    "print(request_df.head())"
   ]
  },
  {
   "cell_type": "code",
   "execution_count": 13,
   "metadata": {},
   "outputs": [
    {
     "name": "stdout",
     "output_type": "stream",
     "text": [
      "      AuthorId  RecipeId  Rating Like  TestSetId\n",
      "0     2492191A     33671     2.0  NaN        1.0\n",
      "1  2002019979A     92647     2.0  NaN        2.0\n",
      "2      408594E    161770     NaN  NaN        3.0\n",
      "3  2001625557E    108231     2.0  NaN        4.0\n",
      "4  2001427116E     71109     NaN  NaN        5.0\n"
     ]
    }
   ],
   "source": [
    "print(reviews_df.head())"
   ]
  },
  {
   "cell_type": "code",
   "execution_count": 14,
   "metadata": {},
   "outputs": [
    {
     "name": "stdout",
     "output_type": "stream",
     "text": [
      "   id  prediction\n",
      "0   1           1\n",
      "1   2           1\n",
      "2   3           1\n",
      "3   4           1\n",
      "4   5           0\n"
     ]
    }
   ],
   "source": [
    "print(submission_df.head())"
   ]
  }
 ],
 "metadata": {
  "kernelspec": {
   "display_name": "baml-venv",
   "language": "python",
   "name": "python3"
  },
  "language_info": {
   "codemirror_mode": {
    "name": "ipython",
    "version": 3
   },
   "file_extension": ".py",
   "mimetype": "text/x-python",
   "name": "python",
   "nbconvert_exporter": "python",
   "pygments_lexer": "ipython3",
   "version": "3.12.0"
  }
 },
 "nbformat": 4,
 "nbformat_minor": 2
}
